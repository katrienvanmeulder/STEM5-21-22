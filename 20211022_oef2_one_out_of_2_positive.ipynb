{
  "nbformat": 4,
  "nbformat_minor": 0,
  "metadata": {
    "colab": {
      "name": "20211022_oef2_one_out_of_2_positive.ipynb",
      "provenance": [],
      "authorship_tag": "ABX9TyM0WKMPPkOuVXgDad7bZQoi",
      "include_colab_link": true
    },
    "kernelspec": {
      "name": "python3",
      "display_name": "Python 3"
    }
  },
  "cells": [
    {
      "cell_type": "markdown",
      "metadata": {
        "id": "view-in-github",
        "colab_type": "text"
      },
      "source": [
        "<a href=\"https://colab.research.google.com/github/katrienvanmeulder/STEM5-21-22/blob/main/20211022_oef2_one_out_of_2_positive.ipynb\" target=\"_parent\"><img src=\"https://colab.research.google.com/assets/colab-badge.svg\" alt=\"Open In Colab\"/></a>"
      ]
    },
    {
      "cell_type": "markdown",
      "metadata": {
        "id": "z0WOnJ5mrw7Q"
      },
      "source": [
        "#Opdracht\n",
        "Schrijf een programma dat laat weten of van 2 ingevoerde gehele getallen, er exact 1 positief is.\n",
        "\n",
        "(Het getal 0 wordt niet als positief beschouwd.)"
      ]
    },
    {
      "cell_type": "markdown",
      "metadata": {
        "id": "EUA-o1aErwra"
      },
      "source": [
        "# Een mogelijke aanpak\n",
        "Het programma …\n",
        "\n",
        "- vraagt de gebruiker naar een eerste geheel getal. (bv. getal1, g1, …)\n",
        "- vraagt de gebruiker naar een tweede geheel getal. (bv. getal2, g2, …)\n",
        "- evalueert of van de 2 ingevoerde getallen er exact 1 positief is.\n",
        "- drukt het gevonden resultaat af onder de vorm “**EXACT 1 POSITIEF**” of “**NIET VOLDAAN**”."
      ]
    },
    {
      "cell_type": "code",
      "metadata": {
        "id": "C8iFTBihrqiE"
      },
      "source": [
        ""
      ],
      "execution_count": null,
      "outputs": []
    }
  ]
}