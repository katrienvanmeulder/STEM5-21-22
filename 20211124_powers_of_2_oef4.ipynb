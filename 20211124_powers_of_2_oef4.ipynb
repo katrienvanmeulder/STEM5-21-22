{
  "nbformat": 4,
  "nbformat_minor": 0,
  "metadata": {
    "colab": {
      "name": "20211124_powers_of_2_oef4.ipynb",
      "provenance": [],
      "collapsed_sections": [],
      "authorship_tag": "ABX9TyNsmVqLmiA7HGqa1T1Y1FnZ",
      "include_colab_link": true
    },
    "kernelspec": {
      "name": "python3",
      "display_name": "Python 3"
    }
  },
  "cells": [
    {
      "cell_type": "markdown",
      "metadata": {
        "id": "view-in-github",
        "colab_type": "text"
      },
      "source": [
        "<a href=\"https://colab.research.google.com/github/katrienvanmeulder/STEM5-21-22/blob/main/20211124_powers_of_2_oef4.ipynb\" target=\"_parent\"><img src=\"https://colab.research.google.com/assets/colab-badge.svg\" alt=\"Open In Colab\"/></a>"
      ]
    },
    {
      "cell_type": "markdown",
      "metadata": {
        "id": "BaSjTycXwtC5"
      },
      "source": [
        "# Opdracht\n",
        "\n",
        "Schrijf een programma dat het grootste natuurlijke getal K vindt, waarvoor geldt dat 2 tot de macht K kleiner is dan (of gelijk aan) een ingevoerd natuurlijk getal N. (zie voorbeelden)\n",
        "\n",
        "Als N = 30 dan –> K = 4\n",
        "\n",
        "- want 2 tot de 4de macht is 16 (kleiner dan of gelijk aan 30)\n",
        "- terwijl 2 tot de 5de macht gelijk is aan 32 (groter dan 30)\n"
      ]
    },
    {
      "cell_type": "code",
      "metadata": {
        "id": "9_Epwqq0wmDT"
      },
      "source": [
        ""
      ],
      "execution_count": null,
      "outputs": []
    }
  ]
}