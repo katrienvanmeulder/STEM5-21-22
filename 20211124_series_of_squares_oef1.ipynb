{
  "nbformat": 4,
  "nbformat_minor": 0,
  "metadata": {
    "colab": {
      "name": "20211124_series_of_squares_oef1.ipynb",
      "provenance": [],
      "collapsed_sections": [],
      "authorship_tag": "ABX9TyOstRwsEsEM1Yrh+Zwh4wt2",
      "include_colab_link": true
    },
    "kernelspec": {
      "name": "python3",
      "display_name": "Python 3"
    }
  },
  "cells": [
    {
      "cell_type": "markdown",
      "metadata": {
        "id": "view-in-github",
        "colab_type": "text"
      },
      "source": [
        "<a href=\"https://colab.research.google.com/github/katrienvanmeulder/STEM5-21-22/blob/main/20211124_series_of_squares_oef1.ipynb\" target=\"_parent\"><img src=\"https://colab.research.google.com/assets/colab-badge.svg\" alt=\"Open In Colab\"/></a>"
      ]
    },
    {
      "cell_type": "markdown",
      "metadata": {
        "id": "5BnCWfwaqJWk"
      },
      "source": [
        "# Opdracht\n",
        "Schrijf een programma dat op het scherm - in stijgende volgorde - de kwadraten van alle natuurlijke getallen toont, waarvoor geldt dat het kwadraat kleiner is (of gelijk aan) een ingevoerd natuurlijk getal N. (zie voorbeelden)"
      ]
    },
    {
      "cell_type": "markdown",
      "metadata": {
        "id": "X3y5ay9_qJNE"
      },
      "source": [
        "# Een mogelijke aanpak\n",
        "Het programma …\n",
        "\n",
        "- vraagt de gebruiker naar een natuurlijk getal en kent deze waarde toe aan een variabele N.\n",
        "- zal een takenlijst herhalen totdat aan een bepaalde voorwaarde voldaan is:\n",
        "  - de takenlijst: het afdrukken van het kwadraat van een natuurlijk getal.\n",
        "de voorwaarde: het kwadraat van het natuurlijk getal moet kleiner zijn dan (of gelijk aan) N.\n",
        "    - de voorwaarde (booleaanse expressie/bewering) zal onderdeel zijn van een while-lus, we weten niet van bij de start hoe vaak er herhaald zal worden\n",
        "    - de while-lus vereist in z’n takenlijst een verandering die ervoor kan zorgen dat de booleaanse expressie ooit niet meer voldaan is, waardoor de herhaling ten einde kan komen.\n",
        "      - die veranderende waarde moet je mogelijks initialiseren (er op voorhand een waarde aan toekennen) vooraleer de while-lus start.\n",
        "  - het afdrukken van de verschillende waarden zal - op dit moment - onderdeel zijn van de takenlijst.\n",
        "    - In de toekomst zie je een andere manier om een lijst getallen op te bouwen, en pas op het einde af te drukken, maar daarvoor moet je het datatype “list” kennen. (als je die reeds beheert kan je die gebruiken)\n",
        "\n"
      ]
    },
    {
      "cell_type": "code",
      "metadata": {
        "id": "z6g_yc77pyML"
      },
      "source": [
        ""
      ],
      "execution_count": null,
      "outputs": []
    }
  ]
}