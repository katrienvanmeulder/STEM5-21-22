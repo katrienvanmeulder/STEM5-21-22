{
  "nbformat": 4,
  "nbformat_minor": 0,
  "metadata": {
    "colab": {
      "name": "20211006_oef2_eeuwen.ipynb",
      "provenance": [],
      "authorship_tag": "ABX9TyPFFthfT/WJlDQOl08qlit2",
      "include_colab_link": true
    },
    "kernelspec": {
      "name": "python3",
      "display_name": "Python 3"
    }
  },
  "cells": [
    {
      "cell_type": "markdown",
      "metadata": {
        "id": "view-in-github",
        "colab_type": "text"
      },
      "source": [
        "<a href=\"https://colab.research.google.com/github/katrienvanmeulder/STEM5-21-22/blob/main/20211006_oef2_eeuwen.ipynb\" target=\"_parent\"><img src=\"https://colab.research.google.com/assets/colab-badge.svg\" alt=\"Open In Colab\"/></a>"
      ]
    },
    {
      "cell_type": "markdown",
      "metadata": {
        "id": "_wHINqKpnijI"
      },
      "source": [
        "# Opgave\n",
        "\n",
        "Schrijf een programma dat vertelt tot welke eeuw een jaartal behoort.\n",
        "\n",
        "**Gevolgde definitie**\n",
        "\n",
        "- We volgen de definitie van eeuw die wordt aangehouden in de internationale norm ISO 8601.\n",
        "\n",
        "- Deze norm stelt dat een nieuwe eeuw begint bij het aanbreken van een jaar waarvan het jaartal eindigt op 00, bijvoorbeeld 2000. Het jaar 2000 is dus het eerste jaar van de 21-ste eeuw.\n",
        "\n",
        "- De 21-ste eeuw duurt - volgens die definitie - van 2000 t/m 2099.\n",
        "\n",
        "- Daaruit blijkt dat:\n",
        "\n",
        " - het jaar 1699 tot de 17de eeuw behoort.\n",
        " - het jaar 1700 tot de 18de eeuw behoort.\n",
        " - het jaar 1701 tot de 18de eeuw behoort."
      ]
    },
    {
      "cell_type": "markdown",
      "metadata": {
        "id": "iTDk71ZwnxFA"
      },
      "source": [
        "# Mogelijke aanpak\n",
        "\n",
        "Het programma …\n",
        "\n",
        "- vraagt de gebruiker naar een jaartal en kent deze waarde toe aan een variabele (bv. jaar, jaartal, j, …).\n",
        "- bepaalt tot welke eeuw dit jaartal (volgens de internationale norm) behoort.\n",
        "- drukt de gevonden waarde af."
      ]
    },
    {
      "cell_type": "code",
      "metadata": {
        "id": "4gx3G5N1vBQP"
      },
      "source": [
        ""
      ],
      "execution_count": null,
      "outputs": []
    }
  ]
}