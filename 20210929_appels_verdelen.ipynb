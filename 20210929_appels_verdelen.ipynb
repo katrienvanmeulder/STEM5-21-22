{
  "nbformat": 4,
  "nbformat_minor": 0,
  "metadata": {
    "colab": {
      "name": "20210929_appels_verdelen.ipynb",
      "provenance": [],
      "authorship_tag": "ABX9TyNnCPvepju3BcNHQ2J3cNf8",
      "include_colab_link": true
    },
    "kernelspec": {
      "name": "python3",
      "display_name": "Python 3"
    }
  },
  "cells": [
    {
      "cell_type": "markdown",
      "metadata": {
        "id": "view-in-github",
        "colab_type": "text"
      },
      "source": [
        "<a href=\"https://colab.research.google.com/github/katrienvanmeulder/STEM5-21-22/blob/main/20210929_appels_verdelen.ipynb\" target=\"_parent\"><img src=\"https://colab.research.google.com/assets/colab-badge.svg\" alt=\"Open In Colab\"/></a>"
      ]
    },
    {
      "cell_type": "markdown",
      "metadata": {
        "id": "_-mnGT6zQcJZ"
      },
      "source": [
        "## Opgave\n",
        "\n",
        "Schrijf een programma dat een hoeveelheid appels onder een aantal leerlingen verdeelt.\n",
        "\n",
        "* Elke leerling krijgt evenveel appels.\n",
        "\n",
        "* De overblijvende appels blijven in de appelmand.\n"
      ]
    },
    {
      "cell_type": "markdown",
      "metadata": {
        "id": "kgitfAmvjw4L"
      },
      "source": [
        "# Een mogelijke aanpak \n",
        "\n",
        "## Het programma:\n",
        "\n",
        "- vraagt de gebruiker hoeveel leerlingen er zijn en kent deze waarde toe aan een variabele. (bv. L, aantal_lln, …)\n",
        "- vraagt de gebruiker hoeveel appels er zijn en kent deze waarde toe aan een variabele. (bv. A, aantal_appels, …)\n",
        "- berekent hoeveel appels elke leerling dan krijgt en kent deze waarde toe aan een variabele. (bv. appels_per_leerling)\n",
        "- berekent hoeveel appels er achterblijven in de appelmand. (bv. overblijvende_appels)\n",
        "- drukt eerst de waarde af die aangeeft hoeveel appels elke leerling krijgt.\n",
        "- drukt vervolgens - op een afzonderlijke regel - de waarde af die aangeeft hoeveel appels er in de mand achter blijven."
      ]
    },
    {
      "cell_type": "code",
      "metadata": {
        "id": "CAeS6aDJQYr2"
      },
      "source": [
        ""
      ],
      "execution_count": null,
      "outputs": []
    }
  ]
}