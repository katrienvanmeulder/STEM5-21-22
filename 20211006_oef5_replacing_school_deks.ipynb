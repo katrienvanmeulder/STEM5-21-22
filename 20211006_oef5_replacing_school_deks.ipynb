{
  "nbformat": 4,
  "nbformat_minor": 0,
  "metadata": {
    "colab": {
      "name": "20211006_oef5_replacing_school_deks.ipynb",
      "provenance": [],
      "authorship_tag": "ABX9TyMhLdgGUECxbgkIeahRBI59",
      "include_colab_link": true
    },
    "kernelspec": {
      "name": "python3",
      "display_name": "Python 3"
    }
  },
  "cells": [
    {
      "cell_type": "markdown",
      "metadata": {
        "id": "view-in-github",
        "colab_type": "text"
      },
      "source": [
        "<a href=\"https://colab.research.google.com/github/katrienvanmeulder/STEM5-21-22/blob/main/20211006_oef5_replacing_school_deks.ipynb\" target=\"_parent\"><img src=\"https://colab.research.google.com/assets/colab-badge.svg\" alt=\"Open In Colab\"/></a>"
      ]
    },
    {
      "cell_type": "markdown",
      "metadata": {
        "id": "e7_30jIVcSN7"
      },
      "source": [
        "# Opgave\n",
        "\n",
        "Schrijf een programma dat berekent hoeveel nieuwe schoolbanken besteld moeten worden.\n",
        "\n",
        "De school moet de banken in drie klaslokalen (A, B & C) te vervangen.\n",
        "\n",
        "Aan elke bank zitten twee leerlingen.\n",
        "\n",
        "Als we het aantal leerlingen in elke klas kennen, dan kunnen we berekenen hoeveel banken we minstens moeten aankopen."
      ]
    },
    {
      "cell_type": "markdown",
      "metadata": {
        "id": "MSWici-acVsV"
      },
      "source": [
        "# Een mogelijke aanpak\n",
        "Het programma …\n",
        "\n",
        "- vraagt de gebruiker naar het aantal leerlingen in klas A, en kent deze waarde toe aan een variabele (bv. A).\n",
        "- vraagt de gebruiker naar het aantal leerlingen in klas B, en kent deze waarde toe aan een variabele (bv. B).\n",
        "- vraagt de gebruiker naar het aantal leerlingen in klas C, en kent deze waarde toe aan een variabele (bv. C).\n",
        "- bepaalt op basis van de ingevoerde leerlingaantallen, het aantal te bestellen banken.\n",
        "- drukt de gevonden waarde af."
      ]
    },
    {
      "cell_type": "code",
      "metadata": {
        "id": "kxjSKymvcNbq"
      },
      "source": [
        ""
      ],
      "execution_count": null,
      "outputs": []
    }
  ]
}