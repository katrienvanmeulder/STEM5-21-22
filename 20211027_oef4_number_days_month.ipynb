{
  "nbformat": 4,
  "nbformat_minor": 0,
  "metadata": {
    "colab": {
      "name": "20211027_oef4_number_days_month.ipynb",
      "provenance": [],
      "collapsed_sections": [],
      "authorship_tag": "ABX9TyOa1zvMVHddKD7HsGsxqYfD",
      "include_colab_link": true
    },
    "kernelspec": {
      "name": "python3",
      "display_name": "Python 3"
    }
  },
  "cells": [
    {
      "cell_type": "markdown",
      "metadata": {
        "id": "view-in-github",
        "colab_type": "text"
      },
      "source": [
        "<a href=\"https://colab.research.google.com/github/katrienvanmeulder/STEM5-21-22/blob/main/20211027_oef4_number_days_month.ipynb\" target=\"_parent\"><img src=\"https://colab.research.google.com/assets/colab-badge.svg\" alt=\"Open In Colab\"/></a>"
      ]
    },
    {
      "cell_type": "markdown",
      "metadata": {
        "id": "wgE1_sq_kegt"
      },
      "source": [
        "# Opdracht\n",
        "- Gegeven een maand.\n",
        "\n",
        "- Schrijf een programma dat het aantal dagen in de gekozen maand op het scherm toont.\n",
        "\n",
        "- Ga er vanuit dat het GEEN schrikkeljaar is.\n",
        "\n"
      ]
    },
    {
      "cell_type": "markdown",
      "metadata": {
        "id": "YLGAis0dkeYb"
      },
      "source": [
        "# Een mogelijke aanpak\n",
        "Het programma …\n",
        "\n",
        "- vraagt de gebruiker naar een natuurlijk getal en kent de ingevoerde waarde toe aan een variabele (bv. maand, m, …).\n",
        "  - 1 –> januari\n",
        "  - 2 –> februari\n",
        "  - …\n",
        "  - 12 –> december\n",
        "- drukt op het scherm af hoeveel dagen er in die maand zijn."
      ]
    },
    {
      "cell_type": "code",
      "metadata": {
        "id": "i7fMO22AkZzB"
      },
      "source": [
        ""
      ],
      "execution_count": null,
      "outputs": []
    }
  ]
}