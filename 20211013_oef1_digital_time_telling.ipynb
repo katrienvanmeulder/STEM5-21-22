{
  "nbformat": 4,
  "nbformat_minor": 0,
  "metadata": {
    "colab": {
      "name": "20211013_oef1_digital_time_telling.ipynb",
      "provenance": [],
      "collapsed_sections": [],
      "authorship_tag": "ABX9TyPJutnq0CbiP+IVtubrBQON",
      "include_colab_link": true
    },
    "kernelspec": {
      "name": "python3",
      "display_name": "Python 3"
    }
  },
  "cells": [
    {
      "cell_type": "markdown",
      "metadata": {
        "id": "view-in-github",
        "colab_type": "text"
      },
      "source": [
        "<a href=\"https://colab.research.google.com/github/katrienvanmeulder/STEM5-21-22/blob/main/20211013_oef1_digital_time_telling.ipynb\" target=\"_parent\"><img src=\"https://colab.research.google.com/assets/colab-badge.svg\" alt=\"Open In Colab\"/></a>"
      ]
    },
    {
      "cell_type": "markdown",
      "metadata": {
        "id": "oYGhsCynk2T6"
      },
      "source": [
        "# Opgave\n",
        "\n",
        "- Schrijf een programma dat, op basis van het aantal minuten verstreken sinds middernacht, bepaalt wat er weergegeven moet worden op de digitale klok:\n",
        "\n",
        "  - Bij de uren? (uur-aanduiding)\n",
        "  - Bij de minuten? (minuten-aanduiding)"
      ]
    },
    {
      "cell_type": "markdown",
      "metadata": {
        "id": "ci-kqkXPlL1I"
      },
      "source": [
        "# Een mogelijke aanpak\n",
        "Het programma …\n",
        "\n",
        "- vraagt de gebruiker naar een getal dat het aantal minuten verstreken sinds middernacht moet voorstellen. De ingevoerde waarde wordt toegekend aan een variabele (bv. minuten, m, …).\n",
        "- berekent op basis van het ingevoerd aantal minuten de uur- en minuten-aanduiding van de digitale klok.\n",
        "- zorgt ervoor dat beide getallen op dezelfde regel worden afgedrukt gescheiden door een spatie."
      ]
    },
    {
      "cell_type": "code",
      "metadata": {
        "id": "6yV00fjvkyNt"
      },
      "source": [
        ""
      ],
      "execution_count": null,
      "outputs": []
    }
  ]
}