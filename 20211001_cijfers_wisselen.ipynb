{
  "nbformat": 4,
  "nbformat_minor": 0,
  "metadata": {
    "colab": {
      "name": "20211001_cijfers_wisselen.ipynb",
      "provenance": [],
      "collapsed_sections": [],
      "authorship_tag": "ABX9TyOipL/ZzVTm+vwHUVqny5DO",
      "include_colab_link": true
    },
    "kernelspec": {
      "name": "python3",
      "display_name": "Python 3"
    }
  },
  "cells": [
    {
      "cell_type": "markdown",
      "metadata": {
        "id": "view-in-github",
        "colab_type": "text"
      },
      "source": [
        "<a href=\"https://colab.research.google.com/github/katrienvanmeulder/STEM5-21-22/blob/main/20211001_cijfers_wisselen.ipynb\" target=\"_parent\"><img src=\"https://colab.research.google.com/assets/colab-badge.svg\" alt=\"Open In Colab\"/></a>"
      ]
    },
    {
      "cell_type": "markdown",
      "metadata": {
        "id": "20yNtD3Vti1m"
      },
      "source": [
        "# Opagve\n",
        "\n",
        "- Wissel de cijfers van een getal met twee cijfers om!\n",
        "\n",
        "- Opgelet. Je moet het getal in één keer ingeven, je mag dus geen twee input statements gebruiken!\n",
        "\n",
        "- Bijvoorbeeld: 79 inlezen en 97 printen op het scherm\n"
      ]
    },
    {
      "cell_type": "markdown",
      "metadata": {
        "id": "5rFnOm3zHPFO"
      },
      "source": [
        "# Een mogelijke aanpak:\n",
        "\n",
        "Het programma ...\n",
        "- vraagt de gebruiker naar een natuurlijk getal met twee cijfers.\n",
        "- kent de ingevoerde waarde toe aan een variabele. (bv. getal, x, …)\n",
        "- verwerkt dit getal zodat het tiental en de éénheid geïsoleerd zijn.\n",
        "- vormt het nieuwe getal. \n",
        "- drukt het nieuwe getal af op het scherm."
      ]
    },
    {
      "cell_type": "code",
      "metadata": {
        "id": "0Q_WKG43tehf"
      },
      "source": [
        ""
      ],
      "execution_count": null,
      "outputs": []
    }
  ]
}