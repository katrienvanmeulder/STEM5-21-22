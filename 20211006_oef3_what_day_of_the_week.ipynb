{
  "nbformat": 4,
  "nbformat_minor": 0,
  "metadata": {
    "colab": {
      "name": "20211006_oef3_what_day_of_the_week.ipynb",
      "provenance": [],
      "authorship_tag": "ABX9TyMovMFbV0r+ucm3Owy/xHu8",
      "include_colab_link": true
    },
    "kernelspec": {
      "name": "python3",
      "display_name": "Python 3"
    }
  },
  "cells": [
    {
      "cell_type": "markdown",
      "metadata": {
        "id": "view-in-github",
        "colab_type": "text"
      },
      "source": [
        "<a href=\"https://colab.research.google.com/github/katrienvanmeulder/STEM5-21-22/blob/main/20211006_oef3_what_day_of_the_week.ipynb\" target=\"_parent\"><img src=\"https://colab.research.google.com/assets/colab-badge.svg\" alt=\"Open In Colab\"/></a>"
      ]
    },
    {
      "cell_type": "markdown",
      "metadata": {
        "id": "mZK0sGSKoR6f"
      },
      "source": [
        "# Opdracht\n",
        "Schrijf een programma dat ons vertelt op welke dag (maandag, dinsdag, …) de k-de dag (1 <= k <= 365) van het jaar valt, wetende dat 1 januari (k = 1) op een donderdag valt."
      ]
    },
    {
      "cell_type": "markdown",
      "metadata": {
        "id": "VQZE4HZEoaR8"
      },
      "source": [
        "# Een mogelijke aanpak\n",
        "Weekdag aanduiding\n",
        "\n",
        "We laten met elke weekdag een cijfer overeenkomen.\n",
        "\n",
        "Laat ons het volgende schema afspreken:\n",
        "\n",
        "- zondag : 0\n",
        "- maandag : 1\n",
        "- dinsdag : 2\n",
        "- woensdag : 3\n",
        "- donderdag: 4\n",
        "- vrijdag: 5\n",
        "- zaterdag: 6\n",
        "\n",
        "\n",
        "\n",
        "---\n",
        "\n",
        "**Tip!**\n",
        "\n",
        "Maak voor jezelf een schema van de eerste 20 dagen van het jaar, en probeer het patroon (het verband tussen invoer en uitvoer) door te krijgen:\n",
        "\n",
        "k (invoer)\t| dag\t| weekdag\t| weekdag (uitvoer)\n",
        "\n",
        "---\n",
        "\n",
        "1\t| 1 januari\t| donderdag\t| 4\n",
        "\n",
        "---\n",
        "\n",
        "2\t| 2 januari\t| vrijdag\t| 5\n",
        "\n",
        "---\n",
        "\n",
        "3\t| 3 januari\t| zaterdag\t| 6\n",
        "\n",
        "---\n",
        "\n",
        "4\t| 4 januari\t| zondag\t| 0\n",
        "\n",
        "---\n",
        "\n",
        "5\t| 5 januari\t| maandag\t| 1\n",
        "\n",
        "---\n",
        "\n",
        "6\t| 6 januari\t| dinsdag\t| 2\n",
        "\n"
      ]
    },
    {
      "cell_type": "code",
      "metadata": {
        "id": "i89LsbyVnNV5"
      },
      "source": [
        ""
      ],
      "execution_count": null,
      "outputs": []
    }
  ]
}