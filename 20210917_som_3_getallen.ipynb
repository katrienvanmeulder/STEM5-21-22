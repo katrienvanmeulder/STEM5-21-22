{
  "nbformat": 4,
  "nbformat_minor": 0,
  "metadata": {
    "colab": {
      "name": "20210917_som_3_getallen.ipynb",
      "provenance": [],
      "authorship_tag": "ABX9TyPfmPD1a52r3OO4fRIof32U",
      "include_colab_link": true
    },
    "kernelspec": {
      "name": "python3",
      "display_name": "Python 3"
    }
  },
  "cells": [
    {
      "cell_type": "markdown",
      "metadata": {
        "id": "view-in-github",
        "colab_type": "text"
      },
      "source": [
        "<a href=\"https://colab.research.google.com/github/katrienvanmeulder/STEM5-21-22/blob/main/20210917_som_3_getallen.ipynb\" target=\"_parent\"><img src=\"https://colab.research.google.com/assets/colab-badge.svg\" alt=\"Open In Colab\"/></a>"
      ]
    },
    {
      "cell_type": "markdown",
      "metadata": {
        "id": "6V4eAMG8Opg1"
      },
      "source": [
        "## Opgave\n",
        "\n",
        "Schrijf een programma dat:\n",
        "\n",
        "* aan de gebruiker een eerste geheel getal vraagt en deze waarde toekent aan een variabele (bv. k, getal1, …).\n",
        "* aan de gebruiker een tweede geheel getal vraagt en deze waarde toekent aan een variabele (bv. l, getal2, …).\n",
        "* aan de gebruiker een derde geheel getal vraagt en deze waarde toekent aan een variabele (bv. m, getal3, …).\n",
        "* de som van de 3 ingevoerde gehele getallen berekent en deze waarde toekent aan een variabele (bv. som).\n",
        "* de berekende waarde op het scherm afdrukt.\n",
        "\n",
        "\n"
      ]
    },
    {
      "cell_type": "code",
      "metadata": {
        "id": "CboxzCm6Oohj"
      },
      "source": [
        ""
      ],
      "execution_count": null,
      "outputs": []
    }
  ]
}