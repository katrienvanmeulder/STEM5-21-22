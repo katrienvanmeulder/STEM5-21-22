{
  "nbformat": 4,
  "nbformat_minor": 0,
  "metadata": {
    "colab": {
      "name": "20211027_oef5_black_sheep.ipynb",
      "provenance": [],
      "authorship_tag": "ABX9TyNKJa+KOS4XTaAQc0Hvutyr",
      "include_colab_link": true
    },
    "kernelspec": {
      "name": "python3",
      "display_name": "Python 3"
    }
  },
  "cells": [
    {
      "cell_type": "markdown",
      "metadata": {
        "id": "view-in-github",
        "colab_type": "text"
      },
      "source": [
        "<a href=\"https://colab.research.google.com/github/katrienvanmeulder/STEM5-21-22/blob/main/20211027_oef5_black_sheep.ipynb\" target=\"_parent\"><img src=\"https://colab.research.google.com/assets/colab-badge.svg\" alt=\"Open In Colab\"/></a>"
      ]
    },
    {
      "cell_type": "markdown",
      "metadata": {
        "id": "uTktzN7s0qrU"
      },
      "source": [
        "# Opdracht\n",
        "\n",
        "- Gegeven 3 gehele getallen, waarvan er 2 aan elkaar gelijk zijn.\n",
        "\n",
        "- Schrijf een programma dat laat weten welk van de 3 getallen het afwijkende getal (het zwarte schaap) is.\n",
        "\n",
        "- Er zijn dus 3 mogelijke antwoorden (zie Uitvoer)."
      ]
    },
    {
      "cell_type": "markdown",
      "metadata": {
        "id": "j7_B2UV90qgW"
      },
      "source": [
        "# Een mogelijke aanpak\n",
        "Het programma …\n",
        "\n",
        "- vraagt de gebruiker naar een eerste geheel getal en kent de ingevoerde waarde toe aan een variabele. (bv. getal1, **g1**, …)\n",
        "- vraagt de gebruiker naar een tweede geheel getal en kent de ingevoerde waarde toe aan een variabele. (bv. getal2, **g2**, …)\n",
        "- vraagt de gebruiker naar een derde geheel getal en kent de ingevoerde waarde toe aan een variabele. (bv. getal3, **g3**, …)\n",
        "- bepaalt welk van de 3 getallen het afwijkende getal is.\n",
        "drukt een specifieke stringwaarde af. (zie ‘uitvoer’ en ‘voorbeelden’)"
      ]
    },
    {
      "cell_type": "code",
      "metadata": {
        "id": "62nv_L1e0kHQ"
      },
      "source": [
        ""
      ],
      "execution_count": null,
      "outputs": []
    }
  ]
}