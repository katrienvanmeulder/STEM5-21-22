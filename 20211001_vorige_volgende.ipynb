{
  "nbformat": 4,
  "nbformat_minor": 0,
  "metadata": {
    "colab": {
      "name": "20211001_vorige_volgende.ipynb",
      "provenance": [],
      "authorship_tag": "ABX9TyMPGnXW+18zYAkhTWzJjytV",
      "include_colab_link": true
    },
    "kernelspec": {
      "name": "python3",
      "display_name": "Python 3"
    }
  },
  "cells": [
    {
      "cell_type": "markdown",
      "metadata": {
        "id": "view-in-github",
        "colab_type": "text"
      },
      "source": [
        "<a href=\"https://colab.research.google.com/github/katrienvanmeulder/STEM5-21-22/blob/main/20211001_vorige_volgende.ipynb\" target=\"_parent\"><img src=\"https://colab.research.google.com/assets/colab-badge.svg\" alt=\"Open In Colab\"/></a>"
      ]
    },
    {
      "cell_type": "markdown",
      "metadata": {
        "id": "ayxEkehnsRlH"
      },
      "source": [
        "# Opgave\n",
        "\n",
        "- Schrijf een programma dat een geheel getal inleest. (bijvoorbeeld 179)\n",
        "- Vervolgens laat je het programma 2 afzonderlijke regels op het scherm tonen. \n",
        "  - Het getal na 179 is 180\n",
        "  - Het getal voor 179 is 178\n",
        "\n",
        "\n"
      ]
    },
    {
      "cell_type": "code",
      "metadata": {
        "id": "FAkw6Bfur7q-"
      },
      "source": [
        ""
      ],
      "execution_count": null,
      "outputs": []
    }
  ]
}