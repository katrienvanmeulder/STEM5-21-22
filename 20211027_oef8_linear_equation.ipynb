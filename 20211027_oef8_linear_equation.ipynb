{
  "nbformat": 4,
  "nbformat_minor": 0,
  "metadata": {
    "colab": {
      "name": "20211027_oef8_linear_equation.ipynb",
      "provenance": [],
      "collapsed_sections": [],
      "authorship_tag": "ABX9TyO+GLATlgTDF2ljcRd047n8",
      "include_colab_link": true
    },
    "kernelspec": {
      "name": "python3",
      "display_name": "Python 3"
    }
  },
  "cells": [
    {
      "cell_type": "markdown",
      "metadata": {
        "id": "view-in-github",
        "colab_type": "text"
      },
      "source": [
        "<a href=\"https://colab.research.google.com/github/katrienvanmeulder/STEM5-21-22/blob/main/20211027_oef8_linear_equation.ipynb\" target=\"_parent\"><img src=\"https://colab.research.google.com/assets/colab-badge.svg\" alt=\"Open In Colab\"/></a>"
      ]
    },
    {
      "cell_type": "markdown",
      "metadata": {
        "id": "06mi-hyvc57_"
      },
      "source": [
        "# Achtergrondinfo\n",
        "Een lineaire vergelijking is een vergelijking van de vorm ax = b.\n",
        "\n",
        "Afhankelijk van de waarden van a en b:\n",
        "\n",
        "- bestaat er één x-waarde waarvoor deze vergelijking waar is. (bv. als a = 4 & b = 8; dan is x = 2 een “gehele” oplossing)\n",
        "- bestaat er geen enkele x-waarde waarvoor deze vergelijking waar is. (bv. als a = 0 & b = 8; dan bestaat er geen x)\n",
        "- bestaan er meerdere x-waarden waarvoor deze vergelijking waar is. (als a = 0 & b = 0; dan zijn er meerdere x waarden mogelijk)"
      ]
    },
    {
      "cell_type": "markdown",
      "metadata": {
        "id": "zb4mr2Coc50N"
      },
      "source": [
        "# Opdracht\n",
        "- Schrijf een programma dat een lineaire vergelijking ax = b oplost naar gehele getallen.\n",
        "\n",
        "- Dit betekent dat een oplossing alleen maar goed gerekend wordt als de oplossing een geheel getal is."
      ]
    },
    {
      "cell_type": "markdown",
      "metadata": {
        "id": "ocvMjH-Nc5rB"
      },
      "source": [
        "# Een mogelijke aanpak\n",
        "Het programma …\n",
        "\n",
        "- vraagt de gebruiker naar een eerste geheel getal en kent de ingevoerde waarde toe aan een variabele a.\n",
        "- vraagt de gebruiker naar een tweede geheel getal en kent de ingevoerde waarde toe aan een variabele b.\n",
        "- moet achterhalen of:\n",
        "  - er een gehele oplossing is voor de vergelijking ax = b,\n",
        "  - er geen gehele oplossing is voor de vergelijking ax = b,\n",
        "  - er meerdere gehele oplossingen zijn voor de vergelijking ax = b.\n",
        "- drukt afhankelijk van het resultaat op het scherm:\n",
        "  - “De gehele oplossing is x = ….”\n",
        "  - “Er is geen gehele oplossing.”\n",
        "  - “Er zijn meerdere gehele oplossingen.”"
      ]
    },
    {
      "cell_type": "code",
      "metadata": {
        "id": "RY5ASpXAc2XC"
      },
      "source": [
        ""
      ],
      "execution_count": null,
      "outputs": []
    }
  ]
}