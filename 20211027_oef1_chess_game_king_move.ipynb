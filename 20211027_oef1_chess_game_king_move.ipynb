{
  "nbformat": 4,
  "nbformat_minor": 0,
  "metadata": {
    "colab": {
      "name": "20211027_oef1_chess_game_king_move.ipynb",
      "provenance": [],
      "collapsed_sections": [],
      "authorship_tag": "ABX9TyO7Tq4kjq5FP7RG2TNojeL8",
      "include_colab_link": true
    },
    "kernelspec": {
      "name": "python3",
      "display_name": "Python 3"
    }
  },
  "cells": [
    {
      "cell_type": "markdown",
      "metadata": {
        "id": "view-in-github",
        "colab_type": "text"
      },
      "source": [
        "<a href=\"https://colab.research.google.com/github/katrienvanmeulder/STEM5-21-22/blob/main/20211027_oef1_chess_game_king_move.ipynb\" target=\"_parent\"><img src=\"https://colab.research.google.com/assets/colab-badge.svg\" alt=\"Open In Colab\"/></a>"
      ]
    },
    {
      "cell_type": "markdown",
      "metadata": {
        "id": "hdJktt3ZdvVr"
      },
      "source": [
        "# Achtergrondinfo\n",
        "Bekijk even het schaakbord in onderstaande figuur.\n",
        "\n",
        "![Schaakspel koning.png](data:image/png;base64,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)\n",
        "\n",
        "Het bord bestaat uit zwarte (donkere) en witte (lichte) velden.\n",
        "\n",
        "Elk veld wordt aangeduid door een combinatie van kolomnummer (k) en rijnummer (r). Bij het verwijzen naar een veld geven we steeds eerst het kolomnummer door en dan pas het rijnummer.\n",
        "\n",
        "**Opgelet!**\n",
        "\n",
        "De kolom helemaal links heeft kolomnummer 1, de kolom helemaal rechts heeft kolomnummer 8.\n",
        "\n",
        "De rij helemaal onderaan heeft rijnummer 1, de rij helemaal bovenaan heeft rijnummer 8.\n",
        "\n",
        "Het veld (1,1), het veld links, onderaan is een ‘donker’ veld.\n",
        "\n",
        "Het veld (6,3), het veld in de 6de kolom, en 3de rij is een ‘licht’ veld.\n",
        "\n",
        "**Koning**\n",
        "\n",
        "De koning (Eng. the king) beweegt zich - in een geldige zet - 1 stap in een richting naar keuze (zowel diagonaal, als horizontaal of verticaal). (zie tekening)\n",
        "\n"
      ]
    },
    {
      "cell_type": "markdown",
      "metadata": {
        "id": "qpDfWmwZdvMG"
      },
      "source": [
        "# Opdracht\n",
        "Gegeven twee velden op een schaakbord.\n",
        "\n",
        "Schrijf een programma dat laat weten of de zet van het ene naar het andere veld voor de koning een geldige zet is."
      ]
    },
    {
      "cell_type": "markdown",
      "metadata": {
        "id": "BiYFRh3xdvCw"
      },
      "source": [
        "# Een mogelijke aanpak\n",
        "Het programma …\n",
        "\n",
        "- vraagt de gebruiker naar het kolomnummer van het eerste veld. (bv. kolom1, **k1**, …)\n",
        "- vraagt de gebruiker naar het rijnummer van het eerste veld. (bv. rij1, **r1**, …)\n",
        "- vraagt de gebruiker naar het kolomnummer van het tweede veld. (bv. kolom2, **k2**, …)\n",
        "- vraagt de gebruiker naar het rijnummer van het tweede veld. (bv. rij2, **r2**, …)\n",
        "- evalueert of een zet van ene naar het andere veld voor de koning een geldige zet is.\n",
        "- drukt het gevonden resultaat af onder de vorm “**GELDIGE KONINGZET**” of “**ONGELDIGE KONINGZET**”."
      ]
    },
    {
      "cell_type": "code",
      "metadata": {
        "id": "z9rBlWE5c5Ai"
      },
      "source": [
        ""
      ],
      "execution_count": null,
      "outputs": []
    }
  ]
}