{
  "nbformat": 4,
  "nbformat_minor": 0,
  "metadata": {
    "colab": {
      "name": "20211015_oef2_odd_or_even.ipynb",
      "provenance": [],
      "authorship_tag": "ABX9TyOiCTIWvUwFjREjD3pr+R/0",
      "include_colab_link": true
    },
    "kernelspec": {
      "name": "python3",
      "display_name": "Python 3"
    }
  },
  "cells": [
    {
      "cell_type": "markdown",
      "metadata": {
        "id": "view-in-github",
        "colab_type": "text"
      },
      "source": [
        "<a href=\"https://colab.research.google.com/github/katrienvanmeulder/STEM5-21-22/blob/main/20211015_oef2_odd_or_even.ipynb\" target=\"_parent\"><img src=\"https://colab.research.google.com/assets/colab-badge.svg\" alt=\"Open In Colab\"/></a>"
      ]
    },
    {
      "cell_type": "markdown",
      "metadata": {
        "id": "t-kfI50S-5dj"
      },
      "source": [
        "# Opgave\n",
        "\n",
        "- Gegeven een geheel getal.\n",
        "\n",
        "- Schrijf een programma dat ons vertelt of het getal “EVEN” of “ONEVEN” is."
      ]
    },
    {
      "cell_type": "markdown",
      "metadata": {
        "id": "H2ymrYjJ--CN"
      },
      "source": [
        "# Mogelijke aanpak\n",
        "\n",
        "Het programma …\n",
        "\n",
        "- vraagt de gebruiker naar een geheel getal en kent de ingevoerde waarde toe aan een variabele. (bv. getal, g, …)\n",
        "- evalueert, gebruikmakend van een ‘booleaanse expressie’ binnen een if/else-statement, of het getal “EVEN” of “ONEVEN” is.\n",
        "- drukt het gevonden resultaat af onder de vorm “EVEN” of “ONEVEN”.\n",
        "  - het afdrukken kan rechtstreeks als onderdeel van de takenlijst van het if/else statement.\n",
        "  - of via een variabele waaraan een waarde wordt toegekend."
      ]
    },
    {
      "cell_type": "code",
      "metadata": {
        "id": "NBYr1vtk-mnA"
      },
      "source": [
        ""
      ],
      "execution_count": null,
      "outputs": []
    }
  ]
}