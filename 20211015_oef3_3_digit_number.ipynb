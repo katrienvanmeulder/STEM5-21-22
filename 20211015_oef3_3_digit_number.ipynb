{
  "nbformat": 4,
  "nbformat_minor": 0,
  "metadata": {
    "colab": {
      "name": "20211015_oef3_3_digit_number.ipynb",
      "provenance": [],
      "collapsed_sections": [],
      "authorship_tag": "ABX9TyPsT/kKNpHkGbOXFvTWbRUo",
      "include_colab_link": true
    },
    "kernelspec": {
      "name": "python3",
      "display_name": "Python 3"
    }
  },
  "cells": [
    {
      "cell_type": "markdown",
      "metadata": {
        "id": "view-in-github",
        "colab_type": "text"
      },
      "source": [
        "<a href=\"https://colab.research.google.com/github/katrienvanmeulder/STEM5-21-22/blob/main/20211015_oef3_3_digit_number.ipynb\" target=\"_parent\"><img src=\"https://colab.research.google.com/assets/colab-badge.svg\" alt=\"Open In Colab\"/></a>"
      ]
    },
    {
      "cell_type": "markdown",
      "metadata": {
        "id": "ujf8DxKp_r9K"
      },
      "source": [
        "# Opgave\n",
        "\n",
        "- Gegeven een natuurlijk getal.\n",
        "\n",
        "- Schrijf een programma dat het antwoord is op de vraag “Bestaat het ingevoerde getal uit exact 3 cijfers?”."
      ]
    },
    {
      "cell_type": "markdown",
      "metadata": {
        "id": "b4mYPNkS_xf-"
      },
      "source": [
        "# Mogelijke aanpak\n",
        "\n",
        "Het programma …\n",
        "\n",
        "- vraagt de gebruiker naar een natuurlijk getal en kent de ingevoerde waarde toe aan een variabele. (bv. getal, g, …)\n",
        "- evalueert, gebruikmakend van een ‘booleaanse expressie’ binnen een if/else-statement, of het getal uit exact 3 cijfers bestaat.\n",
        "  - dat hoeven geen 3 verschillende cijfers te zijn.\n",
        "- drukt het gevonden resultaat af onder de vorm “**DRIE**” of \n",
        "“**NIET (!) DRIE**”.\n",
        "  - het afdrukken kan rechtstreeks als onderdeel van de takenlijst van het if/else statement.\n",
        "  - of via een variabele waaraan een waarde wordt toegekend."
      ]
    },
    {
      "cell_type": "code",
      "metadata": {
        "id": "ZfBsqVKm_k3C"
      },
      "source": [
        ""
      ],
      "execution_count": null,
      "outputs": []
    }
  ]
}