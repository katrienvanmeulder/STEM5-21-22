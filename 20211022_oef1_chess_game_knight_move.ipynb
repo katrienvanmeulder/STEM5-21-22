{
  "nbformat": 4,
  "nbformat_minor": 0,
  "metadata": {
    "colab": {
      "name": "20211022_oef1_chess_game_knight_move.ipynb",
      "provenance": [],
      "collapsed_sections": [],
      "authorship_tag": "ABX9TyMmukWU1p+OaptsP67EDuh9",
      "include_colab_link": true
    },
    "kernelspec": {
      "name": "python3",
      "display_name": "Python 3"
    }
  },
  "cells": [
    {
      "cell_type": "markdown",
      "metadata": {
        "id": "view-in-github",
        "colab_type": "text"
      },
      "source": [
        "<a href=\"https://colab.research.google.com/github/katrienvanmeulder/STEM5-21-22/blob/main/20211022_oef1_chess_game_knight_move.ipynb\" target=\"_parent\"><img src=\"https://colab.research.google.com/assets/colab-badge.svg\" alt=\"Open In Colab\"/></a>"
      ]
    },
    {
      "cell_type": "markdown",
      "metadata": {
        "id": "LXuf3W0enODK"
      },
      "source": [
        "# Achtergrond\n",
        "\n",
        "Bekijk even het schaakbord in onderstaande figuur.\n",
        "\n",
        "![paard op schaakbord.png](data:image/png;base64,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)\n",
        "\n",
        "\n",
        "\n",
        "Het bord bestaat uit zwarte (donkere) en witte (lichte) velden.\n",
        "\n",
        "Elk veld wordt aangeduid door een combinatie van kolomnummer (k) en rijnummer (r). Bij het verwijzen naar een veld geven we steeds eerst het kolomnummer door en dan pas het rijnummer.\n",
        "\n",
        "**Opgelet!**\n",
        "\n",
        "De kolom helemaal links heeft kolomnummer 1, de kolom helemaal rechts heeft kolomnummer 8.\n",
        "\n",
        "De rij helemaal onderaan heeft rijnummer 1, de rij helemaal bovenaan heeft rijnummer 8. <– !!!!\n",
        "\n",
        "Het veld (1,1), het veld links, onderaan is een ‘donker’ veld.\n",
        "\n",
        "Het veld (6,3), het veld in de 6de kolom, en 3de rij is een ‘licht’ veld.\n",
        "\n",
        "**Paardensprong**\n",
        "\n",
        "Het paard beweegt zich - in een geldige zet - ofwel twee horizontale velden en één verticaal veld, ofwel twee verticale velden en één horizontaal veld (een L-vorm).\n",
        "\n"
      ]
    },
    {
      "cell_type": "markdown",
      "metadata": {
        "id": "QeefDaeRo1qD"
      },
      "source": [
        "# Opdracht\n",
        "Gegeven twee velden op een schaakbord.\n",
        "\n",
        "Schrijf een programma dat laat weten of een sprong van het ene naar het andere veld voor het paard een geldige zet is."
      ]
    },
    {
      "cell_type": "markdown",
      "metadata": {
        "id": "0jW9j3s-o0pA"
      },
      "source": [
        "# Een mogelijke aanpak\n",
        "Het programma …\n",
        "\n",
        "- vraagt de gebruiker naar het kolomnummer van het eerste veld. (bv. kolom1, k1, …)\n",
        "- vraagt de gebruiker naar het rijnummer van het eerste veld. (bv. rij1, r1, …)\n",
        "- vraagt de gebruiker naar het kolomnummer van het tweede veld. (bv. kolom2, k2, …)\n",
        "- vraagt de gebruiker naar het rijnummer van het tweede veld. (bv. rij2, r2, …)\n",
        "- evalueert of een sprong van ene naar het andere veld voor het paard een geldige zet is.\n",
        "- drukt het gevonden resultaat af onder de vorm “**GELDIGE ZET**” of “**ONGELDIGE ZET**”."
      ]
    },
    {
      "cell_type": "code",
      "metadata": {
        "id": "dTEnDcMNnKLu"
      },
      "source": [
        ""
      ],
      "execution_count": null,
      "outputs": []
    }
  ]
}