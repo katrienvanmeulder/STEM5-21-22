{
  "nbformat": 4,
  "nbformat_minor": 0,
  "metadata": {
    "colab": {
      "name": "20211027_oef6_4th_corner.ipynb",
      "provenance": [],
      "collapsed_sections": [],
      "authorship_tag": "ABX9TyNGotzR0/CSUlgWkeYRHfdb",
      "include_colab_link": true
    },
    "kernelspec": {
      "name": "python3",
      "display_name": "Python 3"
    }
  },
  "cells": [
    {
      "cell_type": "markdown",
      "metadata": {
        "id": "view-in-github",
        "colab_type": "text"
      },
      "source": [
        "<a href=\"https://colab.research.google.com/github/katrienvanmeulder/STEM5-21-22/blob/main/20211027_oef6_4th_corner.ipynb\" target=\"_parent\"><img src=\"https://colab.research.google.com/assets/colab-badge.svg\" alt=\"Open In Colab\"/></a>"
      ]
    },
    {
      "cell_type": "markdown",
      "metadata": {
        "id": "9GEjTwYV1SYE"
      },
      "source": [
        "# Opdracht\n",
        "Gegeven drie hoekpunten van een rechthoek.\n",
        "\n",
        "![rechthoek in assenstelsel.png](data:image/png;base64,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)\n",
        "\n",
        "- Schrijf een programma dat de coördinaten van het 4de hoekpunt vindt.\n",
        "\n",
        "- We gaan uit van een rechthoek, waarvan de zijden evenwijdig zijn met de assen van een rechthoekig assenstelsel.\n",
        "\n",
        "- Van de drie gekende hoekpunten, ontvangen we de x- en y-coördinaten onder de vorm van zes gehele getallen."
      ]
    },
    {
      "cell_type": "markdown",
      "metadata": {
        "id": "HegA567d1SOv"
      },
      "source": [
        "# Een mogelijke aanpak\n",
        "Het programma …\n",
        "\n",
        "- vraagt de gebruiker naar de x-coördinaat van het eerste hoekpunt en kent de ingevoerde waarde toe aan een variabele. (bv. x1)\n",
        "- vraagt de gebruiker naar de y-coördinaat van het eerste hoekpunt en kent de ingevoerde waarde toe aan een variabele. (bv. y1)\n",
        "- vraagt de gebruiker naar de x-coördinaat van het tweede hoekpunt en kent de ingevoerde waarde toe aan een variabele. (bv. x2)\n",
        "- vraagt de gebruiker naar de y-coördinaat van het tweede hoekpunt en kent de ingevoerde waarde toe aan een variabele. (bv. y2)\n",
        "- vraagt de gebruiker naar de x-coördinaat van het derde hoekpunt en kent de ingevoerde waarde toe aan een variabele. (bv. x3)\n",
        "- vraagt de gebruiker naar de y-coördinaat van het derde hoekpunt en kent de ingevoerde waarde toe aan een variabele. (bv. y3)\n",
        "- bepaalt de x- en y-coördinaat van het vierde hoekpunt.\n",
        "- drukt de x-coördinaat van het vierde hoekpunt af.\n",
        "- drukt de y-coördinaat van het vierde hoekpunt af."
      ]
    },
    {
      "cell_type": "code",
      "metadata": {
        "id": "J6vZYYbc1MC3"
      },
      "source": [
        ""
      ],
      "execution_count": null,
      "outputs": []
    }
  ]
}