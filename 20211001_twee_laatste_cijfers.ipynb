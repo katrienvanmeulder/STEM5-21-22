{
  "nbformat": 4,
  "nbformat_minor": 0,
  "metadata": {
    "colab": {
      "name": "20211001_twee_laatste_cijfers.ipynb",
      "provenance": [],
      "authorship_tag": "ABX9TyO/KM3kbnk1l4xcm+XKgn9I",
      "include_colab_link": true
    },
    "kernelspec": {
      "name": "python3",
      "display_name": "Python 3"
    }
  },
  "cells": [
    {
      "cell_type": "markdown",
      "metadata": {
        "id": "view-in-github",
        "colab_type": "text"
      },
      "source": [
        "<a href=\"https://colab.research.google.com/github/katrienvanmeulder/STEM5-21-22/blob/main/20211001_twee_laatste_cijfers.ipynb\" target=\"_parent\"><img src=\"https://colab.research.google.com/assets/colab-badge.svg\" alt=\"Open In Colab\"/></a>"
      ]
    },
    {
      "cell_type": "markdown",
      "metadata": {
        "id": "Qo9qCBhYtRIv"
      },
      "source": [
        "# Opgave\n",
        "\n",
        "De gebruiker geeft een getal in dat groter is dan 9.\n",
        "Print de laatste twee cijfers.\n"
      ]
    },
    {
      "cell_type": "code",
      "metadata": {
        "id": "T8dm1YVQtNO6"
      },
      "source": [
        ""
      ],
      "execution_count": null,
      "outputs": []
    }
  ]
}