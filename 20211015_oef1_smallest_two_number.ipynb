{
  "nbformat": 4,
  "nbformat_minor": 0,
  "metadata": {
    "colab": {
      "name": "20211015_oef1_smallest_two_number.ipynb",
      "provenance": [],
      "collapsed_sections": [],
      "authorship_tag": "ABX9TyOr7OOjKEy3QNznuJfS2SO6",
      "include_colab_link": true
    },
    "kernelspec": {
      "name": "python3",
      "display_name": "Python 3"
    }
  },
  "cells": [
    {
      "cell_type": "markdown",
      "metadata": {
        "id": "view-in-github",
        "colab_type": "text"
      },
      "source": [
        "<a href=\"https://colab.research.google.com/github/katrienvanmeulder/STEM5-21-22/blob/main/20211015_oef1_smallest_two_number.ipynb\" target=\"_parent\"><img src=\"https://colab.research.google.com/assets/colab-badge.svg\" alt=\"Open In Colab\"/></a>"
      ]
    },
    {
      "cell_type": "markdown",
      "metadata": {
        "id": "N_-GVrzd9VPo"
      },
      "source": [
        "# Opgave\n",
        "\n",
        "- Gegeven twee gehele getallen.\n",
        "\n",
        "- Schrijf een programma dat het kleinste getal afdrukt op het scherm."
      ]
    },
    {
      "cell_type": "markdown",
      "metadata": {
        "id": "xOhhrg9A-NMg"
      },
      "source": [
        "# Mogelijke aanpak\n",
        "\n",
        "Het programma …\n",
        "\n",
        "- vraagt de gebruiker naar een eerste geheel getal en kent deze waarde toe aan een variabele. (bv. getal1, g1, …)\n",
        "- vraagt de gebruiker naar een tweede geheel getal en kent deze waarde toe aan een variabele. (bv. getal2, g2, …)\n",
        "- evalueert gebruikmakend van een ‘booleaanse expressie’ binnen een if/else-statement wat er afgedrukt moet worden.\n",
        "  - dat afdrukken kan meteen als onderdeel van de takenlijst van het if/else-statement.\n",
        "  - men kan er ook voor kiezen een derde variabele (kleinste, k, …) te introduceren en hieraan een waarde toe te kennen (binnen de takenlijst van het if/else statement).\n",
        "- drukt het kleinste van de 2 getallen af."
      ]
    },
    {
      "cell_type": "code",
      "metadata": {
        "id": "rDAiZ0649Feo"
      },
      "source": [
        ""
      ],
      "execution_count": null,
      "outputs": []
    }
  ]
}