{
  "nbformat": 4,
  "nbformat_minor": 0,
  "metadata": {
    "colab": {
      "name": "20211001_input_print.ipynb",
      "provenance": [],
      "authorship_tag": "ABX9TyP3ZT8JVY0Kzq/qqUZ4qhxH",
      "include_colab_link": true
    },
    "kernelspec": {
      "name": "python3",
      "display_name": "Python 3"
    }
  },
  "cells": [
    {
      "cell_type": "markdown",
      "metadata": {
        "id": "view-in-github",
        "colab_type": "text"
      },
      "source": [
        "<a href=\"https://colab.research.google.com/github/katrienvanmeulder/STEM5-21-22/blob/main/20211001_input_print.ipynb\" target=\"_parent\"><img src=\"https://colab.research.google.com/assets/colab-badge.svg\" alt=\"Open In Colab\"/></a>"
      ]
    },
    {
      "cell_type": "markdown",
      "metadata": {
        "id": "HsDfcW3xsw1p"
      },
      "source": [
        "# Opgave\n",
        "\n",
        "- Schrijf een programma dat de gebruiker om zijn/haar voornaam vraagt.\n",
        "- Daarna begroet het programma de gebruiker door \"Hallo, <voornaam>!\" op het scherm te tonen.\n",
        "\n",
        "- Dus:\n",
        "  - Hallo\n",
        "  - een komma\n",
        "  - een spatie\n",
        "  - de voornaam van de gebruiker\n",
        "  - een uitroepteken\n",
        "\n",
        "- Opgelet. De output van je programma moet exact overeenkomen met de verwachtte uitvoer, anders wordt het fout gerekend! Zorg dus dat elk karakter perfect klopt en dat er zeker niet teveel spaties in je uitvoer staan."
      ]
    },
    {
      "cell_type": "code",
      "metadata": {
        "id": "96k4CLwwsmHr"
      },
      "source": [
        ""
      ],
      "execution_count": null,
      "outputs": []
    }
  ]
}