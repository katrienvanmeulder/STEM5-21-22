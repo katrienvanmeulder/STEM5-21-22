{
  "nbformat": 4,
  "nbformat_minor": 0,
  "metadata": {
    "colab": {
      "name": "20211027_oef2_chess_game_queen_move.ipynb",
      "provenance": [],
      "collapsed_sections": [],
      "authorship_tag": "ABX9TyMyOmHu3QdPYHHYHUaADdx+",
      "include_colab_link": true
    },
    "kernelspec": {
      "name": "python3",
      "display_name": "Python 3"
    }
  },
  "cells": [
    {
      "cell_type": "markdown",
      "metadata": {
        "id": "view-in-github",
        "colab_type": "text"
      },
      "source": [
        "<a href=\"https://colab.research.google.com/github/katrienvanmeulder/STEM5-21-22/blob/main/20211027_oef2_chess_game_queen_move.ipynb\" target=\"_parent\"><img src=\"https://colab.research.google.com/assets/colab-badge.svg\" alt=\"Open In Colab\"/></a>"
      ]
    },
    {
      "cell_type": "markdown",
      "metadata": {
        "id": "hEx0d26adOR3"
      },
      "source": [
        "# Achtergrond\n",
        "\n",
        "Bekijk even het schaakbord in onderstaande figuur.\n",
        "\n",
        "![Schaakspel koningin.png](data:image/png;base64,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)\n",
        "\n",
        "Het bord bestaat uit zwarte (donkere) en witte (lichte) velden.\n",
        "\n",
        "Elk veld wordt aangeduid door een combinatie van kolomnummer (k) en rijnummer (r). Bij het verwijzen naar een veld geven we steeds eerst het kolomnummer door en dan pas het rijnummer.\n",
        "\n",
        "**Opgelet!**\n",
        "\n",
        "De kolom helemaal links heeft kolomnummer 1, de kolom helemaal rechts heeft kolomnummer 8.\n",
        "\n",
        "De rij helemaal onderaan heeft rijnummer 1, de rij helemaal bovenaan heeft rijnummer 8.\n",
        "\n",
        "Het veld (1,1), het veld links, onderaan is een ‘donker’ veld.\n",
        "\n",
        "Het veld (6,3), het veld in de 6de kolom, en 3de rij is een ‘licht’ veld.\n",
        "\n",
        "**Koningin**\n",
        "\n",
        "De koningin (Eng. the Queen) beweegt zich - in een geldige zet - in een richting en over een afstand naar keuze (zowel diagonaal, als horizontaal of verticaal). (zie tekening)\n",
        "\n"
      ]
    },
    {
      "cell_type": "markdown",
      "metadata": {
        "id": "uC97D3AzdOIJ"
      },
      "source": [
        "# Opdracht\n",
        "Gegeven twee velden op een schaakbord.\n",
        "\n",
        "Schrijf een programma dat laat weten of de zet van het ene naar het andere veld voor de koningin een geldige zet is."
      ]
    },
    {
      "cell_type": "markdown",
      "metadata": {
        "id": "obRIDE1TdN6u"
      },
      "source": [
        "# Een mogelijke aanpak\n",
        "Het programma …\n",
        "\n",
        "- vraagt de gebruiker naar het kolomnummer van het eerste veld. (bv. kolom1, k1, …)\n",
        "- vraagt de gebruiker naar het rijnummer van het eerste veld. (bv. rij1, r1, …)\n",
        "- vraagt de gebruiker naar het kolomnummer van het tweede veld. (bv. kolom2, k2, …)\n",
        "- vraagt de gebruiker naar het rijnummer van het tweede veld. (bv. rij2, r2, …)\n",
        "- evalueert of een zet van ene naar het andere veld voor de koningin een geldige zet is.\n",
        "- drukt het gevonden resultaat af onder de vorm “**GELDIGE KONINGIN-ZET**” of “**ONGELDIGE KONINGIN-ZET**”."
      ]
    },
    {
      "cell_type": "code",
      "metadata": {
        "id": "mKPhBMR0dJb0"
      },
      "source": [
        ""
      ],
      "execution_count": null,
      "outputs": []
    }
  ]
}