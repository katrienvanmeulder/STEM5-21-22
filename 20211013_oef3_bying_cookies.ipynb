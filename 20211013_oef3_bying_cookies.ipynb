{
  "nbformat": 4,
  "nbformat_minor": 0,
  "metadata": {
    "colab": {
      "name": "20211013_oef3_bying_cookies.ipynb",
      "provenance": [],
      "authorship_tag": "ABX9TyN9BvQHSZDQzLL9jLzV+IK/",
      "include_colab_link": true
    },
    "kernelspec": {
      "name": "python3",
      "display_name": "Python 3"
    }
  },
  "cells": [
    {
      "cell_type": "markdown",
      "metadata": {
        "id": "view-in-github",
        "colab_type": "text"
      },
      "source": [
        "<a href=\"https://colab.research.google.com/github/katrienvanmeulder/STEM5-21-22/blob/main/20211013_oef3_bying_cookies.ipynb\" target=\"_parent\"><img src=\"https://colab.research.google.com/assets/colab-badge.svg\" alt=\"Open In Colab\"/></a>"
      ]
    },
    {
      "cell_type": "markdown",
      "metadata": {
        "id": "gHXNhOwMlit2"
      },
      "source": [
        "# Opdracht\n",
        "\n",
        "Schrijf een programma dat de prijs berekent van een aantal koekjes."
      ]
    },
    {
      "cell_type": "markdown",
      "metadata": {
        "id": "qcJgzwjhln-M"
      },
      "source": [
        "# Een mogelijke aanpak\n",
        "- Stel dat de prijs van 1 koekje 1,23€ is.\n",
        "\n",
        "- Het gehele deel is 1, het decimale deel is 23.\n",
        "\n",
        "Het programma …\n",
        "\n",
        "- vraagt de gebruiker naar het gehele deel van de prijs van 1 koekje en kent de ingevoerde waarde toe aan een variabele. (bv. geheel, g, …)\n",
        "- vraagt de gebruiker naar het decimale deel van de prijs van 1 koekje en kent de ingevoerde waarde toe aan een variabele. (bv. decimaal, d, …)\n",
        "- vraagt de gebruiker naar het aantal koekjes en kent de ingevoerde waarde toe aan een variabele. (bv. aantal, n, …)\n",
        "- berekent hoeveel euro en hoeveel eurocent betaald moet worden voor n koekjes."
      ]
    },
    {
      "cell_type": "code",
      "metadata": {
        "id": "yD8YmX38lbry"
      },
      "source": [
        ""
      ],
      "execution_count": null,
      "outputs": []
    }
  ]
}