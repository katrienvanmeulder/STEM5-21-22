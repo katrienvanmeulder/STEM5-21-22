{
  "nbformat": 4,
  "nbformat_minor": 0,
  "metadata": {
    "colab": {
      "name": "20211022_oef6_bishop_move.ipynb",
      "provenance": [],
      "collapsed_sections": [],
      "authorship_tag": "ABX9TyOO8L5CFNZdb8LEDQeK4fme",
      "include_colab_link": true
    },
    "kernelspec": {
      "name": "python3",
      "display_name": "Python 3"
    }
  },
  "cells": [
    {
      "cell_type": "markdown",
      "metadata": {
        "id": "view-in-github",
        "colab_type": "text"
      },
      "source": [
        "<a href=\"https://colab.research.google.com/github/katrienvanmeulder/STEM5-21-22/blob/main/20211022_oef6_bishop_move.ipynb\" target=\"_parent\"><img src=\"https://colab.research.google.com/assets/colab-badge.svg\" alt=\"Open In Colab\"/></a>"
      ]
    },
    {
      "cell_type": "markdown",
      "metadata": {
        "id": "EP7XYurerzvU"
      },
      "source": [
        "# Achtergrondinfo\n",
        "Bekijk even het schaakbord in onderstaande figuur.\n",
        "\n",
        "![Schaakspel loper.png](data:image/png;base64,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)\n",
        "\n",
        "\n",
        "Het bord bestaat uit zwarte (donkere) en witte (lichte) velden.\n",
        "\n",
        "Elk veld wordt aangeduid door een combinatie van kolomnummer (k) en rijnummer (r). Bij het verwijzen naar een veld geven we steeds eerst het kolomnummer door en dan pas het rijnummer.\n",
        "\n",
        "**Opgelet!**\n",
        "\n",
        "De kolom helemaal links heeft kolomnummer 1, de kolom helemaal rechts heeft kolomnummer 8.\n",
        "\n",
        "De rij helemaal onderaan heeft rijnummer 1, de rij helemaal bovenaan heeft rijnummer 8.\n",
        "\n",
        "Het veld (1,1), het veld links, onderaan is een ‘donker’ veld.\n",
        "\n",
        "Het veld (6,3), het veld in de 6de kolom, en 3de rij is een ‘licht’ veld.\n",
        "\n",
        "**Loper**\n",
        "\n",
        "De loper (Eng. the bishop) beweegt zich - in een geldige zet - diagonaal over het bord. (zie tekening)"
      ]
    },
    {
      "cell_type": "markdown",
      "metadata": {
        "id": "QDFH1yTzr6Ws"
      },
      "source": [
        "# Opdracht\n",
        "- Gegeven twee velden op een schaakbord.\n",
        "\n",
        "- Schrijf een programma dat laat weten of de zet van het ene naar het andere veld voor de loper een geldige zet is."
      ]
    },
    {
      "cell_type": "markdown",
      "metadata": {
        "id": "SjzJk3For5vf"
      },
      "source": [
        "# Een mogelijke aanpak\n",
        "Het programma …\n",
        "\n",
        "- vraagt de gebruiker naar het kolomnummer van het eerste veld. (bv. kolom1, k1, …)\n",
        "- vraagt de gebruiker naar het rijnummer van het eerste veld. (bv. rij1, r1, …)\n",
        "- vraagt de gebruiker naar het kolomnummer van het tweede veld. (bv. kolom2, k2, …)\n",
        "- vraagt de gebruiker naar het rijnummer van het tweede veld. (bv. rij2, r2, …)\n",
        "- evalueert of een zet van ene naar het andere veld voor de loper een geldige zet is.\n",
        "- drukt het gevonden resultaat af onder de vorm “**GELDIGE LOPERZET**” of “**ONGELDIGE LOPERZET**”."
      ]
    },
    {
      "cell_type": "code",
      "metadata": {
        "id": "SX8i2ILHrwYe"
      },
      "source": [
        ""
      ],
      "execution_count": null,
      "outputs": []
    }
  ]
}