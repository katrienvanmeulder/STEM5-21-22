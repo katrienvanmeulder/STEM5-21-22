{
  "nbformat": 4,
  "nbformat_minor": 0,
  "metadata": {
    "colab": {
      "name": "20211006_oef1_gps.ipynb",
      "provenance": [],
      "authorship_tag": "ABX9TyN8bAAuG1NqaNAkWxvr2MbL",
      "include_colab_link": true
    },
    "kernelspec": {
      "name": "python3",
      "display_name": "Python 3"
    }
  },
  "cells": [
    {
      "cell_type": "markdown",
      "metadata": {
        "id": "view-in-github",
        "colab_type": "text"
      },
      "source": [
        "<a href=\"https://colab.research.google.com/github/katrienvanmeulder/STEM5-21-22/blob/main/20211006_oef1_gps.ipynb\" target=\"_parent\"><img src=\"https://colab.research.google.com/assets/colab-badge.svg\" alt=\"Open In Colab\"/></a>"
      ]
    },
    {
      "cell_type": "markdown",
      "metadata": {
        "id": "f-qXTGIyurFi"
      },
      "source": [
        "# Opgave\n",
        "\n",
        "- Bouw een programma dat ons vertelt op welke dag we op onze bestemming aankomen.\n",
        "\n",
        "- We leggen iedere dag N kilometer af.\n",
        "- Op welke dag zullen we arriveren als we M kilometer af moeten leggen?\n",
        "\n",
        "- Het programma krijgt 2 inputs:\n",
        "\n",
        "  - N: het aantal kilometer per dag\n",
        "  - M: het aantal kilometers dat we willen rijden\n",
        "\n",
        "- (We gaan er in deze oefening vanuit dat M geen veelvoud is van N)"
      ]
    },
    {
      "cell_type": "code",
      "metadata": {
        "id": "3gsLeHq-uopZ"
      },
      "source": [
        ""
      ],
      "execution_count": null,
      "outputs": []
    }
  ]
}