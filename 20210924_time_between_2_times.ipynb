{
  "nbformat": 4,
  "nbformat_minor": 0,
  "metadata": {
    "colab": {
      "name": "20210924_time_between_2_times.ipynb",
      "provenance": [],
      "authorship_tag": "ABX9TyPZgyR8fE/PFqjj7gLhz9Cz",
      "include_colab_link": true
    },
    "kernelspec": {
      "name": "python3",
      "display_name": "Python 3"
    }
  },
  "cells": [
    {
      "cell_type": "markdown",
      "metadata": {
        "id": "view-in-github",
        "colab_type": "text"
      },
      "source": [
        "<a href=\"https://colab.research.google.com/github/katrienvanmeulder/STEM5-21-22/blob/main/20210924_time_between_2_times.ipynb\" target=\"_parent\"><img src=\"https://colab.research.google.com/assets/colab-badge.svg\" alt=\"Open In Colab\"/></a>"
      ]
    },
    {
      "cell_type": "markdown",
      "metadata": {
        "id": "1H1RFO8QNipw"
      },
      "source": [
        "## Opgave 1\n",
        "Gegeven twee tijdstippen op dezelfde dag (bv. 12:34:56 en 21:43:07).\n",
        "\n",
        "Het tweede tijdstip valt later dan het eerste tijdstip.\n",
        "\n",
        "Schrijf een programma dat berekent hoeveel seconden er tussen beide tijdstippen zitten.\n",
        "\n",
        "Het programma …\n",
        "\n",
        "* leest als volgt de 2 tijdstippen in:\n",
        "  * het programma vraagt naar de uren horend bij het eerste tijdstip en kent deze waarde toe aan een variabele (bv. u1).\n",
        "  * het programma vraagt naar de minuten horend bij het eerste tijdstip en kent deze waarde toe aan een variabele (bv. m1).\n",
        "  * het programma vraagt naar de seconden horend bij het eerste tijdstip en kent deze waarde toe aan een variabele (bv. s1).\n",
        "  * het programma vraagt naar de uren horend bij het tweede tijdstip en kent deze waarde toe aan een variabele (bv. u2).\n",
        "  * het programma vraagt naar de minuten horend bij het tweede tijdstip en kent deze waarde toe aan een variabele (bv. m2).\n",
        "  * het programma vraagt naar de seconden horend bij het tweede tijdstip en kent deze waarde toe aan een variabele (bv. s2).\n",
        "* berekent op basis van de ingevoerde tijdstippen de tijd die er tussen de tijdstippen zit (uitgedrukt in aantal seconden).\n",
        "* drukt de berekende waarde af op het scherm."
      ]
    },
    {
      "cell_type": "code",
      "metadata": {
        "id": "tcoUb3kuNb38"
      },
      "source": [
        ""
      ],
      "execution_count": null,
      "outputs": []
    }
  ]
}