{
  "nbformat": 4,
  "nbformat_minor": 0,
  "metadata": {
    "colab": {
      "name": "20211022_oef5_leap_year.ipynb",
      "provenance": [],
      "collapsed_sections": [],
      "authorship_tag": "ABX9TyN0i/MhiiboVcRiscL87I8s",
      "include_colab_link": true
    },
    "kernelspec": {
      "name": "python3",
      "display_name": "Python 3"
    }
  },
  "cells": [
    {
      "cell_type": "markdown",
      "metadata": {
        "id": "view-in-github",
        "colab_type": "text"
      },
      "source": [
        "<a href=\"https://colab.research.google.com/github/katrienvanmeulder/STEM5-21-22/blob/main/20211022_oef5_leap_year.ipynb\" target=\"_parent\"><img src=\"https://colab.research.google.com/assets/colab-badge.svg\" alt=\"Open In Colab\"/></a>"
      ]
    },
    {
      "cell_type": "markdown",
      "metadata": {
        "id": "2DNUoFbprKRk"
      },
      "source": [
        "# Achtergrond\n",
        "\n",
        "**Schrikkeljaar**\n",
        "\n",
        "- Een jaar is een schrikkeljaar als het jaartal deelbaar is door vier, maar niet door 100. (1400 is geen schrikkeljaar!)\n",
        "\n",
        "- Uitzondering op deze regel zijn de jaren die deelbaar zijn door 400. Dit zijn TOCH schrikkeljaren. (1200 en 1600 zijn WEL schrikkeljaren!)"
      ]
    },
    {
      "cell_type": "markdown",
      "metadata": {
        "id": "K1GaRvumrSOn"
      },
      "source": [
        "# Opdracht\n",
        "- Gegeven een jaartal.\n",
        "\n",
        "- Schrijf een programma dat laat weten of het ingevoerde jaar al dan niet een schrikkeljaar is.\n",
        "\n"
      ]
    },
    {
      "cell_type": "markdown",
      "metadata": {
        "id": "vmrgIw68rcvb"
      },
      "source": [
        "# Een mogelijke aanpak\n",
        "Het programma …\n",
        "\n",
        "- vraagt de gebruiker naar een jaartal en kent de ingevoerde waarde toe aan een variabele. (bv. jaar, j, yr, …)\n",
        "- evalueert of het ingevoerde jaartal een schrikkeljaar is.\n",
        "- drukt de stringwaarde “**SCHRIKKELJAAR**” of de stringwaarde “**GEEN SCHRIKKELJAAR**” af."
      ]
    },
    {
      "cell_type": "code",
      "metadata": {
        "id": "qe_jd43kiCqm"
      },
      "source": [
        ""
      ],
      "execution_count": null,
      "outputs": []
    }
  ]
}