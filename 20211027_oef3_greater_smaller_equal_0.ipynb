{
  "nbformat": 4,
  "nbformat_minor": 0,
  "metadata": {
    "colab": {
      "name": "20211027_oef3_greater_smaller_equal_0.ipynb",
      "provenance": [],
      "collapsed_sections": [],
      "authorship_tag": "ABX9TyN6lEdnhIulgwTls28ESXR1",
      "include_colab_link": true
    },
    "kernelspec": {
      "name": "python3",
      "display_name": "Python 3"
    }
  },
  "cells": [
    {
      "cell_type": "markdown",
      "metadata": {
        "id": "view-in-github",
        "colab_type": "text"
      },
      "source": [
        "<a href=\"https://colab.research.google.com/github/katrienvanmeulder/STEM5-21-22/blob/main/20211027_oef3_greater_smaller_equal_0.ipynb\" target=\"_parent\"><img src=\"https://colab.research.google.com/assets/colab-badge.svg\" alt=\"Open In Colab\"/></a>"
      ]
    },
    {
      "cell_type": "markdown",
      "metadata": {
        "id": "NJGknJZUebpB"
      },
      "source": [
        "# Opdracht\n",
        "Gegeven een geheel getal.\n",
        "\n",
        "Schrijf een programma dat laat weten of het ingevoerde getal een positief getal, een negatief getal of het getal 0 is.\n",
        "\n",
        "Er zijn dus 3 mogelijke antwoorden."
      ]
    },
    {
      "cell_type": "markdown",
      "metadata": {
        "id": "_5Ali2MeebeR"
      },
      "source": [
        "# Een mogelijke aanpak\n",
        "Het programma …\n",
        "\n",
        "- vraagt de gebruiker naar een geheel getal en kent de ingevoerde waarde toe aan een variabele (bv. getal, **g**, …).\n",
        "- evalueert of het ingevoerde getal positief, negatief of gelijk aan 0 is.\n",
        "- drukt de stringwaarde “**POSITIEF**”, de stringwaarde “**NEGATIEF**” of de stringwaarde “**GELIJK AAN 0**” af.\n"
      ]
    },
    {
      "cell_type": "code",
      "metadata": {
        "id": "voo0s_DieWge"
      },
      "source": [
        ""
      ],
      "execution_count": null,
      "outputs": []
    }
  ]
}