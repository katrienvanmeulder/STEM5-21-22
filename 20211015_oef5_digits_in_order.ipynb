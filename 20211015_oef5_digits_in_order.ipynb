{
  "nbformat": 4,
  "nbformat_minor": 0,
  "metadata": {
    "colab": {
      "name": "20211015_oef5_digits_in_order.ipynb",
      "provenance": [],
      "collapsed_sections": [],
      "authorship_tag": "ABX9TyNmmXrma+TuCKmOYMrkb1/E",
      "include_colab_link": true
    },
    "kernelspec": {
      "name": "python3",
      "display_name": "Python 3"
    }
  },
  "cells": [
    {
      "cell_type": "markdown",
      "metadata": {
        "id": "view-in-github",
        "colab_type": "text"
      },
      "source": [
        "<a href=\"https://colab.research.google.com/github/katrienvanmeulder/STEM5-21-22/blob/main/20211015_oef5_digits_in_order.ipynb\" target=\"_parent\"><img src=\"https://colab.research.google.com/assets/colab-badge.svg\" alt=\"Open In Colab\"/></a>"
      ]
    },
    {
      "cell_type": "markdown",
      "metadata": {
        "id": "uM8nfPGimocS"
      },
      "source": [
        "# Opdracht\n",
        "Gegeven een natuurlijk getal dat bestaat uit drie verschillende cijfers.\n",
        "\n",
        "Schrijf een programma dat antwoord geeft op de vraag “Staan de cijfers van het getal in stijgende volgorde?”."
      ]
    },
    {
      "cell_type": "markdown",
      "metadata": {
        "id": "l4WNCijrm0rn"
      },
      "source": [
        "# Een mogelijke aanpak\n",
        "Het programma …\n",
        "\n",
        "- vraagt de gebruiker naar een natuurlijk getal en kent de ingevoerde waarde toe aan een variabele. (bv. getal, g, …)\n",
        "- evalueert of de opeenvolgende cijfers in stijgende volgorde staan.\n",
        "- drukt het gevonden resultaat af onder de vorm “**STIJGEND**” of \n",
        "“**NIET (!) STIJGEND**”."
      ]
    },
    {
      "cell_type": "code",
      "metadata": {
        "id": "qg7s9q-tmnOY"
      },
      "source": [
        ""
      ],
      "execution_count": null,
      "outputs": []
    }
  ]
}