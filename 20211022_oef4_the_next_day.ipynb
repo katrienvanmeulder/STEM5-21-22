{
  "nbformat": 4,
  "nbformat_minor": 0,
  "metadata": {
    "colab": {
      "name": "20211022_oef4_the_next_day.ipynb",
      "provenance": [],
      "include_colab_link": true
    },
    "kernelspec": {
      "name": "python3",
      "display_name": "Python 3"
    }
  },
  "cells": [
    {
      "cell_type": "markdown",
      "metadata": {
        "id": "view-in-github",
        "colab_type": "text"
      },
      "source": [
        "<a href=\"https://colab.research.google.com/github/katrienvanmeulder/STEM5-21-22/blob/main/20211022_oef4_the_next_day.ipynb\" target=\"_parent\"><img src=\"https://colab.research.google.com/assets/colab-badge.svg\" alt=\"Open In Colab\"/></a>"
      ]
    },
    {
      "cell_type": "markdown",
      "metadata": {
        "id": "eFYXCgN1cKw_"
      },
      "source": [
        "# Opdracht\n",
        "- Gegeven een kalenderdag (bv. 14 maart)\n",
        "\n",
        "- Schrijf een programma dat de volgende kalenderdag (15 maart) op het scherm toont.\n",
        "\n",
        "- Een bestaande kalenderdag wordt ingevoerd aan de hand van twee natuurlijke getallen.\n",
        "\n",
        "- Het eerste getal duidt de maand aan, het tweede getal de dag. (14 maart –> maand = 3; dag = 14)"
      ]
    },
    {
      "cell_type": "markdown",
      "metadata": {
        "id": "HgIDA4b4cWfo"
      },
      "source": [
        "# Een mogelijke aanpak\n",
        "Het programma …\n",
        "\n",
        "- vraagt de gebruiker naar een eerste natuurlijk getal dat de maand van een kalenderdag voorstelt. (bv. maand, m, …)\n",
        "- vraagt de gebruiker naar een tweede natuurlijk getal dat de dag van een kalenderdag voorstelt. (bv. dag, d, …)\n",
        "- bepaalt welke de volgende kalenderdag is.\n",
        "- drukt de volgende kalenderdag als volgt af op het scherm:\n",
        "  - Een eerste getal dat de maand waarin die volgende kalenderdag valt aanduidt (een natuurlijk getal van 1 tot en met 12).\n",
        " - Het tweede getal dat de dag aanduidt (een natuurlijk getal van 1 tem …).\n",
        " - Beide getallen verschijnen op een afzonderlijke regel."
      ]
    },
    {
      "cell_type": "code",
      "metadata": {
        "id": "gvGIc7fHcCop"
      },
      "source": [
        "input = 0 \n",
        "output = 1"
      ],
      "execution_count": null,
      "outputs": []
    }
  ]
}